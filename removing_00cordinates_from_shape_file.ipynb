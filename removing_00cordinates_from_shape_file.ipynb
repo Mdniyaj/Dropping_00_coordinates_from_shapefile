{
 "cells": [
  {
   "cell_type": "code",
   "execution_count": 3,
   "metadata": {},
   "outputs": [
    {
     "name": "stdout",
     "output_type": "stream",
     "text": [
      "Total points before removal: 30197\n",
      "Total points after removal: 30079\n",
      "Cleaned shapefile saved to: C:/Users/Sk Niyaj Mohemmad/OneDrive - Shiv Nadar Institution of Eminence/FASTag Project/Clean Data/NFHS/2019-20/IAGE7AFL_cleaned.shp\n"
     ]
    }
   ],
   "source": [
    "import geopandas as gpd\n",
    "\n",
    "# Load the shapefile (replace with your shapefile path)\n",
    "shapefile_path = \"C:/Users/Sk Niyaj Mohemmad/OneDrive - Shiv Nadar Institution of Eminence/FASTag Project/Raw Data/NFHS/2019-20/IAGE7AFL.shp\"  # Example: \"C:/data/cluster_points.shp\"\n",
    "gdf = gpd.read_file(shapefile_path)\n",
    "\n",
    "# Print the number of points before removing (0,0) coordinates\n",
    "print(\"Total points before removal:\", len(gdf))\n",
    "\n",
    "# Remove points where both X and Y coordinates are 0\n",
    "gdf_cleaned = gdf[~((gdf.geometry.x == 0) & (gdf.geometry.y == 0))]\n",
    "\n",
    "# Print the number of points after removing (0,0) points\n",
    "print(\"Total points after removal:\", len(gdf_cleaned))\n",
    "\n",
    "# Save the cleaned shapefile to your desired path\n",
    "cleaned_shapefile_path = \"C:/Users/Sk Niyaj Mohemmad/OneDrive - Shiv Nadar Institution of Eminence/FASTag Project/Clean Data/NFHS/2019-20/IAGE7AFL_cleaned.shp\"  # Replace with your desired path\n",
    "gdf_cleaned.to_file(cleaned_shapefile_path)\n",
    "\n",
    "print(f\"Cleaned shapefile saved to: {cleaned_shapefile_path}\")\n"
   ]
  }
 ],
 "metadata": {
  "kernelspec": {
   "display_name": "Python 3",
   "language": "python",
   "name": "python3"
  },
  "language_info": {
   "codemirror_mode": {
    "name": "ipython",
    "version": 3
   },
   "file_extension": ".py",
   "mimetype": "text/x-python",
   "name": "python",
   "nbconvert_exporter": "python",
   "pygments_lexer": "ipython3",
   "version": "3.12.5"
  }
 },
 "nbformat": 4,
 "nbformat_minor": 2
}
